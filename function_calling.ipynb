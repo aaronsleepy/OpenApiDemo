{
 "cells": [
  {
   "cell_type": "markdown",
   "id": "43107ed7-1de1-4ed8-aa4e-33262c3e2845",
   "metadata": {},
   "source": [
    "# Function Calling"
   ]
  },
  {
   "cell_type": "markdown",
   "id": "40fe31b1-116f-4894-88bd-6738b91642c0",
   "metadata": {},
   "source": [
    "* ref: [OpenAI의 함수 호출(Function Calling) 소개 및 Python 예시](https://techbukket.com/blog/openai-function-python)"
   ]
  },
  {
   "cell_type": "code",
   "execution_count": 1,
   "id": "8dc202bf-30dc-4637-85e5-cef9928b76f3",
   "metadata": {},
   "outputs": [
    {
     "data": {
      "text/plain": [
       "True"
      ]
     },
     "execution_count": 1,
     "metadata": {},
     "output_type": "execute_result"
    }
   ],
   "source": [
    "from dotenv import load_dotenv\n",
    "load_dotenv()"
   ]
  },
  {
   "cell_type": "code",
   "execution_count": 2,
   "id": "c9b47325-2630-4432-8190-4c4adcf766f6",
   "metadata": {},
   "outputs": [],
   "source": [
    "from openai import OpenAI\n",
    "client = OpenAI()"
   ]
  },
  {
   "cell_type": "markdown",
   "id": "658f3dad-f94d-4729-855e-1cb17ff9caee",
   "metadata": {},
   "source": [
    "## 0. 호출할 함수 정의"
   ]
  },
  {
   "cell_type": "code",
   "execution_count": 3,
   "id": "6fb6f23e-8504-4d41-972d-031129769900",
   "metadata": {},
   "outputs": [],
   "source": [
    "import json\n",
    "\n",
    "def get_current_weather(location, unit=\"섭씨\"):\n",
    "    \"\"\"\n",
    "    지정된 위치의 현재 날씨 정보를 반환하는 함수.\n",
    "\n",
    "    이 함수는 입력받은 위치에 대한 날씨 정보를 포함하는 딕셔너리를 생성하고,\n",
    "    이를 JSON 형식의 문자열로 변환하여 반환합니다. 반환되는 날씨 정보에는\n",
    "    위치, 기온, 단위(섭씨/화씨), 예보(맑음, 바람 등)가 포함됩니다.\n",
    "\n",
    "    Args:\n",
    "        location (str): 날씨 정보를 얻고자 하는 위치의 이름.\n",
    "        unit (str, optional): 온도 표시 단위. 기본값은 \"섭씨\". \"화씨\"로 변경 가능.\n",
    "\n",
    "    Returns:\n",
    "        str: 지정된 위치의 날씨 정보를 포함하는 JSON 형식의 문자열.\n",
    "    \"\"\"\n",
    "    weather_info = {\n",
    "        \"location\": location,\n",
    "        \"temperature\": \"24\",\n",
    "        \"unit\": unit,\n",
    "        \"forecast\": [\"sunny\", \"windy\"],\n",
    "    }\n",
    "    return json.dumps(weather_info, ensure_ascii=False)"
   ]
  },
  {
   "cell_type": "markdown",
   "id": "50c5c876-5a86-448b-ab8e-40d3eb64ee7f",
   "metadata": {},
   "source": [
    "## 1. 모델에 함수 정보와 메시지를 전달"
   ]
  },
  {
   "cell_type": "code",
   "execution_count": 4,
   "id": "f36c13c6-7f39-4704-b5c8-f7b7b6c267a0",
   "metadata": {},
   "outputs": [],
   "source": [
    "messages = [{\"role\": \"user\", \"content\": \"오늘 서울 날씨 어때??\"}]"
   ]
  },
  {
   "cell_type": "code",
   "execution_count": 5,
   "id": "78185e07-7104-4934-b6ea-09fad9caaf31",
   "metadata": {},
   "outputs": [],
   "source": [
    "functions = [\n",
    "    {\n",
    "        \"name\": \"get_current_weather\",\n",
    "        \"description\": \"주어진 지역의 현재 날씨를 알려줍니다.\",\n",
    "        \"parameters\": {\n",
    "            \"type\": \"object\",\n",
    "            \"properties\": {\n",
    "                \"location\": {\n",
    "                    \"type\": \"string\",\n",
    "                    \"description\": \"지역, e.g. 서울, 부산, 제주도\",\n",
    "                },\n",
    "                \"unit\": {\"type\": \"string\", \"enum\": [\"섭씨\", \"화씨\"]},\n",
    "            },\n",
    "            \"required\": [\"location\"],\n",
    "        },\n",
    "    }\n",
    "]"
   ]
  },
  {
   "cell_type": "code",
   "execution_count": 9,
   "id": "3d87eb3c-7c20-4fb4-8a7e-a3fc50b2bac5",
   "metadata": {},
   "outputs": [
    {
     "name": "stdout",
     "output_type": "stream",
     "text": [
      "첫번재 응답\n",
      "ChatCompletion(id='chatcmpl-8cXPhViyrPiC9TCE2yh91vbBg5shQ', choices=[Choice(finish_reason='function_call', index=0, logprobs=None, message=ChatCompletionMessage(content=None, role='assistant', function_call=FunctionCall(arguments='{\"location\":\"서울\"}', name='get_current_weather'), tool_calls=None))], created=1704195597, model='gpt-3.5-turbo-1106', object='chat.completion', system_fingerprint='fp_772e8125bb', usage=CompletionUsage(completion_tokens=17, prompt_tokens=114, total_tokens=131))\n"
     ]
    }
   ],
   "source": [
    "response = client.chat.completions.create(\n",
    "    model=\"gpt-3.5-turbo-1106\",\n",
    "    messages=messages,\n",
    "    functions=functions,\n",
    "    function_call=\"auto\"\n",
    ")\n",
    "\n",
    "print(\"첫번재 응답\")\n",
    "print(response)\n",
    "\n",
    "response_message = response.choices[0].message"
   ]
  },
  {
   "cell_type": "markdown",
   "id": "c75e857c-4d33-428a-bbe7-a3f1ce6ca229",
   "metadata": {},
   "source": [
    "## 2. GPT 응답의 함수를 실행"
   ]
  },
  {
   "cell_type": "code",
   "execution_count": 7,
   "id": "d9acd503-4cae-460d-b4b9-33133a20e7a9",
   "metadata": {},
   "outputs": [
    {
     "name": "stdout",
     "output_type": "stream",
     "text": [
      "{\"location\": \"서울\", \"temperature\": \"24\", \"unit\": \"섭씨\", \"forecast\": [\"sunny\", \"windy\"]}\n"
     ]
    }
   ],
   "source": [
    "function_response = get_current_weather(\"서울\")\n",
    "print(function_response)"
   ]
  },
  {
   "cell_type": "markdown",
   "id": "d447c9f3-a6d3-41ee-96ab-6a18dd914cb4",
   "metadata": {},
   "source": [
    "## 3. 모델에 함수를 실행한 결과를 전달"
   ]
  },
  {
   "cell_type": "code",
   "execution_count": 8,
   "id": "e3635720-ccd3-42a7-bcfd-90ce865dc584",
   "metadata": {},
   "outputs": [],
   "source": [
    "function_name=\"get_current_weather\""
   ]
  },
  {
   "cell_type": "code",
   "execution_count": 10,
   "id": "562daee2-f214-4396-b73e-12f8bca473fc",
   "metadata": {},
   "outputs": [],
   "source": [
    "messages.append(response_message) # messages에 GPT의 첫번째 응답을 추가합니다.\n",
    "messages.append( # messages에 함수의 실행결과를 추가합니다.\n",
    "    {\n",
    "        \"role\": \"function\",\n",
    "        \"name\": function_name, # 함수 이름\n",
    "        \"content\": function_response, # 함수 실행 결과\n",
    "    }\n",
    ")"
   ]
  },
  {
   "cell_type": "code",
   "execution_count": 13,
   "id": "77e7bee6-c16d-4036-ba43-2586e9d33b93",
   "metadata": {},
   "outputs": [
    {
     "name": "stdout",
     "output_type": "stream",
     "text": [
      "ChatCompletion(id='chatcmpl-8cXQUXkWywIZ3CjgBU9geALjaAiFN', choices=[Choice(finish_reason='stop', index=0, logprobs=None, message=ChatCompletionMessage(content='서울의 오늘 날씨는 24도로 맑고 바람이 조금 불고 있습니다.', role='assistant', function_call=None, tool_calls=None))], created=1704195646, model='gpt-3.5-turbo-1106', object='chat.completion', system_fingerprint='fp_772e8125bb', usage=CompletionUsage(completion_tokens=33, prompt_tokens=84, total_tokens=117))\n"
     ]
    }
   ],
   "source": [
    "# 두번째 OPENAI API 요청\n",
    "second_response = client.chat.completions.create(\n",
    "    model=\"gpt-3.5-turbo-1106\",\n",
    "    messages=messages,\n",
    ")\n",
    "\n",
    "# 응답을 출력\n",
    "print(second_response)"
   ]
  },
  {
   "cell_type": "code",
   "execution_count": null,
   "id": "911ae54a-8b72-4517-8726-0bff4cc7af81",
   "metadata": {},
   "outputs": [],
   "source": []
  }
 ],
 "metadata": {
  "kernelspec": {
   "display_name": "Python 3 (ipykernel)",
   "language": "python",
   "name": "python3"
  },
  "language_info": {
   "codemirror_mode": {
    "name": "ipython",
    "version": 3
   },
   "file_extension": ".py",
   "mimetype": "text/x-python",
   "name": "python",
   "nbconvert_exporter": "python",
   "pygments_lexer": "ipython3",
   "version": "3.9.6"
  }
 },
 "nbformat": 4,
 "nbformat_minor": 5
}
