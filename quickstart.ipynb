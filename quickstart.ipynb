{
 "cells": [
  {
   "cell_type": "markdown",
   "id": "421ad79a-8e6a-4d9d-9862-744dcd4d57ea",
   "metadata": {},
   "source": [
    "# Quickstart"
   ]
  },
  {
   "cell_type": "code",
   "execution_count": 1,
   "id": "882fcd19-a3a3-4465-bcff-664d84a55be6",
   "metadata": {},
   "outputs": [],
   "source": [
    "from dotenv import load_dotenv"
   ]
  },
  {
   "cell_type": "code",
   "execution_count": 2,
   "id": "1cb5fbeb-9325-4d7c-8b02-4669eba296e3",
   "metadata": {},
   "outputs": [
    {
     "data": {
      "text/plain": [
       "True"
      ]
     },
     "execution_count": 2,
     "metadata": {},
     "output_type": "execute_result"
    }
   ],
   "source": [
    "load_dotenv()"
   ]
  },
  {
   "cell_type": "code",
   "execution_count": 3,
   "id": "accf4562-b083-417e-b333-714b4ed4465b",
   "metadata": {},
   "outputs": [],
   "source": [
    "from openai import OpenAI"
   ]
  },
  {
   "cell_type": "code",
   "execution_count": 4,
   "id": "9f9f78c8-f73a-436d-9f20-33f3135f203a",
   "metadata": {
    "scrolled": true
   },
   "outputs": [],
   "source": [
    "client = OpenAI()\n",
    "# defaults to getting the key using os.environ.get(\"OPENAI_API_KEY\")\n",
    "# if you saved the key under a different environment variable name, you can do something like:\n",
    "# client = OpenAI(\n",
    "#   api_key=os.environ.get(\"CUSTOM_ENV_NAME\"),\n",
    "# )"
   ]
  },
  {
   "cell_type": "markdown",
   "id": "45490b32-c9c9-47e3-968f-0600d99d3c08",
   "metadata": {},
   "source": [
    "# Making an API request"
   ]
  },
  {
   "cell_type": "code",
   "execution_count": 6,
   "id": "5246359e-1fbb-4677-b10c-037821a316d7",
   "metadata": {},
   "outputs": [],
   "source": [
    "completion = client.chat.completions.create(\n",
    "    model=\"gpt-3.5-turbo\",\n",
    "    messages=[\n",
    "        {\"role\": \"system\", \"content\": \"You are a poetic assistant, skilled in explaining complex programming concepts with creative flair.\"},\n",
    "        {\"role\": \"user\", \"content\": \"Compose a poem that explains the concept of recursion in programming.\"}\n",
    "    ]\n",
    ")"
   ]
  },
  {
   "cell_type": "code",
   "execution_count": 7,
   "id": "29dd59c2-27ab-436a-a46c-a5090643aa55",
   "metadata": {},
   "outputs": [
    {
     "name": "stdout",
     "output_type": "stream",
     "text": [
      "ChatCompletionMessage(content=\"In the realm of code, where logic takes flight,\\nThere lies a concept, like a twinkling light.\\nRecursion, its name, a dance of profound,\\nUnraveling mysteries, looping around.\\n\\nA function, like a tale, begins its tale,\\nWith conditions checked, it starts to unveil.\\nBut within its depths, a whisper of grace,\\nA call to itself, it seeks to embrace.\\n\\nLike a painting, where brushstrokes repeat,\\nRecursion finds beauty in patterns, so neat.\\nFor to solve a problem, it must first see,\\nThe power in breaking it down, so uniquely.\\n\\nLike a Fibonacci sequence, growing with ease,\\nRecursion unfolds, a sequence it frees,\\nEach step calling back to the one before,\\nLetting the magic dance, forevermore.\\n\\nWith every iteration, a story's told,\\nOf problems solved, of journeys bold.\\nYet caution be heeded, for if uncontrolled,\\nA cycle's embrace, the code will enfold.\\n\\nBut wielded with care, recursion delights,\\nUnfolding universes, unveiling insights.\\nInfinite possibilities, it can unfold,\\nLike a labyrinth, with secrets untold.\\n\\nSo, embrace the wonder, let it inspire,\\nRecursion, a flame, will never tire.\\nFor in the depths of code, where beauty thrives,\\nRecursion dances, as logic revives.\", role='assistant', function_call=None, tool_calls=None)\n"
     ]
    }
   ],
   "source": [
    "print(completion.choices[0].message)"
   ]
  },
  {
   "cell_type": "code",
   "execution_count": null,
   "id": "fcbc8b01-e910-403b-a5d4-2130241a1c55",
   "metadata": {},
   "outputs": [],
   "source": []
  }
 ],
 "metadata": {
  "kernelspec": {
   "display_name": "venv",
   "language": "python",
   "name": "venv"
  },
  "language_info": {
   "codemirror_mode": {
    "name": "ipython",
    "version": 3
   },
   "file_extension": ".py",
   "mimetype": "text/x-python",
   "name": "python",
   "nbconvert_exporter": "python",
   "pygments_lexer": "ipython3",
   "version": "3.9.6"
  }
 },
 "nbformat": 4,
 "nbformat_minor": 5
}
